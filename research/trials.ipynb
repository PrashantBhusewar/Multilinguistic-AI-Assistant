{
 "cells": [
  {
   "cell_type": "code",
   "execution_count": 1,
   "metadata": {},
   "outputs": [],
   "source": [
    "import os"
   ]
  },
  {
   "cell_type": "code",
   "execution_count": 3,
   "metadata": {},
   "outputs": [],
   "source": [
    "from dotenv import load_dotenv\n",
    "import os\n",
    "\n",
    "load_dotenv()\n",
    "\n",
    "GOOGLE_API_KEY=os.getenv(\"GOOGLE_API_KEY\")\n",
    "os.environ[\"GOOGLE_API_KEY\"]=GOOGLE_API_KEY"
   ]
  },
  {
   "cell_type": "code",
   "execution_count": 4,
   "metadata": {},
   "outputs": [
    {
     "name": "stderr",
     "output_type": "stream",
     "text": [
      "c:\\Users\\prash\\miniconda3\\envs\\multi\\lib\\site-packages\\tqdm\\auto.py:21: TqdmWarning: IProgress not found. Please update jupyter and ipywidgets. See https://ipywidgets.readthedocs.io/en/stable/user_install.html\n",
      "  from .autonotebook import tqdm as notebook_tqdm\n"
     ]
    }
   ],
   "source": [
    "# Import the Python SDK\n",
    "import google.generativeai as genai"
   ]
  },
  {
   "cell_type": "code",
   "execution_count": 5,
   "metadata": {},
   "outputs": [],
   "source": [
    "genai.configure(api_key=GOOGLE_API_KEY)"
   ]
  },
  {
   "cell_type": "code",
   "execution_count": 6,
   "metadata": {},
   "outputs": [],
   "source": [
    "model = genai.GenerativeModel('gemini-pro')"
   ]
  },
  {
   "cell_type": "code",
   "execution_count": 7,
   "metadata": {},
   "outputs": [
    {
     "name": "stdout",
     "output_type": "stream",
     "text": [
      "**Generative AI**\n",
      "\n",
      "Generative AI is a type of artificial intelligence (AI) that can create new data or content from scratch. Unlike traditional AI models that are trained on existing datasets, generative AI models learn the underlying patterns and structures of data and can generate novel content that resembles real-world examples.\n",
      "\n",
      "**How Generative AI Works:**\n",
      "\n",
      "* **Learning Phase:** Generative AI models are trained on large datasets of text, images, or other types of data. They analyze the patterns, styles, and relationships within the data to build an internal representation of the data distribution.\n",
      "* **Generation Phase:** Once trained, the generative AI model can generate new data or content by sampling from the learned distribution. The model creates new items that are similar to the training data but with unique variations and combinations.\n",
      "\n",
      "**Types of Generative AI Models:**\n",
      "\n",
      "* **Generative Adversarial Networks (GANs):** Two neural networks compete against each other, with one generating data and the other evaluating its authenticity.\n",
      "* **Variational Autoencoders (VAEs):** Learn a latent space representation of data that captures its essential features and can be used for generating new data.\n",
      "* **Transformer-based Models:** Utilize attention mechanisms for understanding sequential data and can be used for language generation, image captioning, and more.\n",
      "\n",
      "**Applications of Generative AI:**\n",
      "\n",
      "* **Text and Language Generation:** Creating news articles, stories, marketing content\n",
      "* **Image and Video Generation:** Generating realistic images, videos, or animations\n",
      "* **Music Generation:** Composing original music in various styles\n",
      "* **Natural Language Processing (NLP):** Enhancing machine translation, text summarization, and chatbot responses\n",
      "* **Drug Discovery:** Identifying potential drug candidates and optimizing their properties\n",
      "* **Material Science:** Designing new materials with desired properties\n",
      "\n",
      "**Benefits of Generative AI:**\n",
      "\n",
      "* **Content Creation:** Saves time and effort by automating the generation of content.\n",
      "* **Novelty and Diversity:** Creates unique and diverse content that can inspire creativity and innovation.\n",
      "* **Data Augmentation:** Generates synthetic data to supplement existing datasets and improve model performance.\n",
      "* **Personalization:** Can tailor content to individual user preferences and create personalized experiences.\n",
      "* **Futuristic Technologies:** Enables the development of groundbreaking technologies that push the boundaries of human creativity and problem-solving.\n"
     ]
    }
   ],
   "source": [
    "response = model.generate_content(\"What is Generative AI ?\")\n",
    "print(response.text)"
   ]
  }
 ],
 "metadata": {
  "kernelspec": {
   "display_name": "multi",
   "language": "python",
   "name": "python3"
  },
  "language_info": {
   "codemirror_mode": {
    "name": "ipython",
    "version": 3
   },
   "file_extension": ".py",
   "mimetype": "text/x-python",
   "name": "python",
   "nbconvert_exporter": "python",
   "pygments_lexer": "ipython3",
   "version": "3.9.19"
  }
 },
 "nbformat": 4,
 "nbformat_minor": 2
}
